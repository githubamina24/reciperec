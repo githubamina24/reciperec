{
 "cells": [
  {
   "cell_type": "code",
   "execution_count": 2,
   "id": "49aa157c",
   "metadata": {},
   "outputs": [
    {
     "name": "stderr",
     "output_type": "stream",
     "text": [
      "C:\\Users\\amina sultana\\anaconda3\\lib\\site-packages\\scipy\\__init__.py:146: UserWarning: A NumPy version >=1.16.5 and <1.23.0 is required for this version of SciPy (detected version 1.26.1\n",
      "  warnings.warn(f\"A NumPy version >={np_minversion} and <{np_maxversion}\"\n"
     ]
    }
   ],
   "source": [
    "import numpy as np\n",
    "import pandas as pd\n",
    "import matplotlib.pyplot as plt\n",
    "import seaborn as sns\n",
    "from ast import literal_eval\n",
    "\n",
    "%matplotlib inline"
   ]
  },
  {
   "cell_type": "code",
   "execution_count": 3,
   "id": "631a5eab",
   "metadata": {},
   "outputs": [
    {
     "name": "stdout",
     "output_type": "stream",
     "text": [
      "Requirement already satisfied: tensorflow-recommenders in c:\\users\\amina sultana\\anaconda3\\lib\\site-packages (0.7.3)\n",
      "Requirement already satisfied: absl-py>=0.1.6 in c:\\users\\amina sultana\\anaconda3\\lib\\site-packages (from tensorflow-recommenders) (2.0.0)\n",
      "Requirement already satisfied: tensorflow>=2.9.0 in c:\\users\\amina sultana\\anaconda3\\lib\\site-packages (from tensorflow-recommenders) (2.14.0)\n",
      "Requirement already satisfied: tensorflow-intel==2.14.0 in c:\\users\\amina sultana\\anaconda3\\lib\\site-packages (from tensorflow>=2.9.0->tensorflow-recommenders) (2.14.0)\n",
      "Requirement already satisfied: grpcio<2.0,>=1.24.3 in c:\\users\\amina sultana\\anaconda3\\lib\\site-packages (from tensorflow-intel==2.14.0->tensorflow>=2.9.0->tensorflow-recommenders) (1.59.0)\n",
      "Requirement already satisfied: flatbuffers>=23.5.26 in c:\\users\\amina sultana\\anaconda3\\lib\\site-packages (from tensorflow-intel==2.14.0->tensorflow>=2.9.0->tensorflow-recommenders) (23.5.26)\n",
      "Requirement already satisfied: tensorboard<2.15,>=2.14 in c:\\users\\amina sultana\\anaconda3\\lib\\site-packages (from tensorflow-intel==2.14.0->tensorflow>=2.9.0->tensorflow-recommenders) (2.14.1)\n"
     ]
    },
    {
     "name": "stderr",
     "output_type": "stream",
     "text": [
      "WARNING: Ignoring invalid distribution -rotobuf (c:\\users\\amina sultana\\anaconda3\\lib\\site-packages)\n",
      "WARNING: Ignoring invalid distribution -rotobuf (c:\\users\\amina sultana\\anaconda3\\lib\\site-packages)\n",
      "WARNING: Ignoring invalid distribution -rotobuf (c:\\users\\amina sultana\\anaconda3\\lib\\site-packages)\n",
      "WARNING: Ignoring invalid distribution -rotobuf (c:\\users\\amina sultana\\anaconda3\\lib\\site-packages)\n",
      "WARNING: Ignoring invalid distribution -rotobuf (c:\\users\\amina sultana\\anaconda3\\lib\\site-packages)\n",
      "WARNING: Ignoring invalid distribution -rotobuf (c:\\users\\amina sultana\\anaconda3\\lib\\site-packages)\n"
     ]
    },
    {
     "name": "stdout",
     "output_type": "stream",
     "text": [
      "Requirement already satisfied: typing-extensions>=3.6.6 in c:\\users\\amina sultana\\anaconda3\\lib\\site-packages (from tensorflow-intel==2.14.0->tensorflow>=2.9.0->tensorflow-recommenders) (4.1.1)\n",
      "Requirement already satisfied: tensorflow-io-gcs-filesystem>=0.23.1 in c:\\users\\amina sultana\\anaconda3\\lib\\site-packages (from tensorflow-intel==2.14.0->tensorflow>=2.9.0->tensorflow-recommenders) (0.31.0)\n",
      "Requirement already satisfied: ml-dtypes==0.2.0 in c:\\users\\amina sultana\\anaconda3\\lib\\site-packages (from tensorflow-intel==2.14.0->tensorflow>=2.9.0->tensorflow-recommenders) (0.2.0)\n",
      "Requirement already satisfied: libclang>=13.0.0 in c:\\users\\amina sultana\\anaconda3\\lib\\site-packages (from tensorflow-intel==2.14.0->tensorflow>=2.9.0->tensorflow-recommenders) (16.0.6)\n",
      "Requirement already satisfied: tensorflow-estimator<2.15,>=2.14.0 in c:\\users\\amina sultana\\anaconda3\\lib\\site-packages (from tensorflow-intel==2.14.0->tensorflow>=2.9.0->tensorflow-recommenders) (2.14.0)\n",
      "Requirement already satisfied: numpy>=1.23.5 in c:\\users\\amina sultana\\anaconda3\\lib\\site-packages (from tensorflow-intel==2.14.0->tensorflow>=2.9.0->tensorflow-recommenders) (1.26.1)\n",
      "Requirement already satisfied: google-pasta>=0.1.1 in c:\\users\\amina sultana\\anaconda3\\lib\\site-packages (from tensorflow-intel==2.14.0->tensorflow>=2.9.0->tensorflow-recommenders) (0.2.0)\n",
      "Requirement already satisfied: setuptools in c:\\users\\amina sultana\\anaconda3\\lib\\site-packages (from tensorflow-intel==2.14.0->tensorflow>=2.9.0->tensorflow-recommenders) (61.2.0)\n",
      "Requirement already satisfied: astunparse>=1.6.0 in c:\\users\\amina sultana\\anaconda3\\lib\\site-packages (from tensorflow-intel==2.14.0->tensorflow>=2.9.0->tensorflow-recommenders) (1.6.3)\n",
      "Requirement already satisfied: packaging in c:\\users\\amina sultana\\anaconda3\\lib\\site-packages (from tensorflow-intel==2.14.0->tensorflow>=2.9.0->tensorflow-recommenders) (21.3)\n",
      "Requirement already satisfied: keras<2.15,>=2.14.0 in c:\\users\\amina sultana\\anaconda3\\lib\\site-packages (from tensorflow-intel==2.14.0->tensorflow>=2.9.0->tensorflow-recommenders) (2.14.0)\n",
      "Requirement already satisfied: h5py>=2.9.0 in c:\\users\\amina sultana\\anaconda3\\lib\\site-packages (from tensorflow-intel==2.14.0->tensorflow>=2.9.0->tensorflow-recommenders) (3.6.0)\n",
      "Requirement already satisfied: six>=1.12.0 in c:\\users\\amina sultana\\anaconda3\\lib\\site-packages (from tensorflow-intel==2.14.0->tensorflow>=2.9.0->tensorflow-recommenders) (1.16.0)\n",
      "Requirement already satisfied: termcolor>=1.1.0 in c:\\users\\amina sultana\\anaconda3\\lib\\site-packages (from tensorflow-intel==2.14.0->tensorflow>=2.9.0->tensorflow-recommenders) (2.3.0)\n",
      "Requirement already satisfied: protobuf!=4.21.0,!=4.21.1,!=4.21.2,!=4.21.3,!=4.21.4,!=4.21.5,<5.0.0dev,>=3.20.3 in c:\\users\\amina sultana\\anaconda3\\lib\\site-packages (from tensorflow-intel==2.14.0->tensorflow>=2.9.0->tensorflow-recommenders) (3.20.3)\n",
      "Requirement already satisfied: opt-einsum>=2.3.2 in c:\\users\\amina sultana\\anaconda3\\lib\\site-packages (from tensorflow-intel==2.14.0->tensorflow>=2.9.0->tensorflow-recommenders) (3.3.0)\n",
      "Requirement already satisfied: gast!=0.5.0,!=0.5.1,!=0.5.2,>=0.2.1 in c:\\users\\amina sultana\\anaconda3\\lib\\site-packages (from tensorflow-intel==2.14.0->tensorflow>=2.9.0->tensorflow-recommenders) (0.5.4)\n",
      "Requirement already satisfied: wrapt<1.15,>=1.11.0 in c:\\users\\amina sultana\\anaconda3\\lib\\site-packages (from tensorflow-intel==2.14.0->tensorflow>=2.9.0->tensorflow-recommenders) (1.12.1)\n",
      "Requirement already satisfied: wheel<1.0,>=0.23.0 in c:\\users\\amina sultana\\anaconda3\\lib\\site-packages (from astunparse>=1.6.0->tensorflow-intel==2.14.0->tensorflow>=2.9.0->tensorflow-recommenders) (0.37.1)\n",
      "Requirement already satisfied: requests<3,>=2.21.0 in c:\\users\\amina sultana\\anaconda3\\lib\\site-packages (from tensorboard<2.15,>=2.14->tensorflow-intel==2.14.0->tensorflow>=2.9.0->tensorflow-recommenders) (2.27.1)\n",
      "Requirement already satisfied: google-auth-oauthlib<1.1,>=0.5 in c:\\users\\amina sultana\\anaconda3\\lib\\site-packages (from tensorboard<2.15,>=2.14->tensorflow-intel==2.14.0->tensorflow>=2.9.0->tensorflow-recommenders) (1.0.0)\n",
      "Requirement already satisfied: markdown>=2.6.8 in c:\\users\\amina sultana\\anaconda3\\lib\\site-packages (from tensorboard<2.15,>=2.14->tensorflow-intel==2.14.0->tensorflow>=2.9.0->tensorflow-recommenders) (3.3.4)\n",
      "Requirement already satisfied: google-auth<3,>=1.6.3 in c:\\users\\amina sultana\\anaconda3\\lib\\site-packages (from tensorboard<2.15,>=2.14->tensorflow-intel==2.14.0->tensorflow>=2.9.0->tensorflow-recommenders) (2.23.3)\n",
      "Requirement already satisfied: tensorboard-data-server<0.8.0,>=0.7.0 in c:\\users\\amina sultana\\anaconda3\\lib\\site-packages (from tensorboard<2.15,>=2.14->tensorflow-intel==2.14.0->tensorflow>=2.9.0->tensorflow-recommenders) (0.7.2)\n",
      "Requirement already satisfied: werkzeug>=1.0.1 in c:\\users\\amina sultana\\anaconda3\\lib\\site-packages (from tensorboard<2.15,>=2.14->tensorflow-intel==2.14.0->tensorflow>=2.9.0->tensorflow-recommenders) (2.0.3)\n",
      "Requirement already satisfied: cachetools<6.0,>=2.0.0 in c:\\users\\amina sultana\\anaconda3\\lib\\site-packages (from google-auth<3,>=1.6.3->tensorboard<2.15,>=2.14->tensorflow-intel==2.14.0->tensorflow>=2.9.0->tensorflow-recommenders) (4.2.2)\n",
      "Requirement already satisfied: pyasn1-modules>=0.2.1 in c:\\users\\amina sultana\\anaconda3\\lib\\site-packages (from google-auth<3,>=1.6.3->tensorboard<2.15,>=2.14->tensorflow-intel==2.14.0->tensorflow>=2.9.0->tensorflow-recommenders) (0.2.8)\n",
      "Requirement already satisfied: rsa<5,>=3.1.4 in c:\\users\\amina sultana\\anaconda3\\lib\\site-packages (from google-auth<3,>=1.6.3->tensorboard<2.15,>=2.14->tensorflow-intel==2.14.0->tensorflow>=2.9.0->tensorflow-recommenders) (4.7.2)\n",
      "Requirement already satisfied: requests-oauthlib>=0.7.0 in c:\\users\\amina sultana\\anaconda3\\lib\\site-packages (from google-auth-oauthlib<1.1,>=0.5->tensorboard<2.15,>=2.14->tensorflow-intel==2.14.0->tensorflow>=2.9.0->tensorflow-recommenders) (1.3.1)\n",
      "Requirement already satisfied: pyasn1<0.5.0,>=0.4.6 in c:\\users\\amina sultana\\anaconda3\\lib\\site-packages (from pyasn1-modules>=0.2.1->google-auth<3,>=1.6.3->tensorboard<2.15,>=2.14->tensorflow-intel==2.14.0->tensorflow>=2.9.0->tensorflow-recommenders) (0.4.8)\n",
      "Requirement already satisfied: idna<4,>=2.5 in c:\\users\\amina sultana\\anaconda3\\lib\\site-packages (from requests<3,>=2.21.0->tensorboard<2.15,>=2.14->tensorflow-intel==2.14.0->tensorflow>=2.9.0->tensorflow-recommenders) (3.3)\n",
      "Requirement already satisfied: urllib3<1.27,>=1.21.1 in c:\\users\\amina sultana\\anaconda3\\lib\\site-packages (from requests<3,>=2.21.0->tensorboard<2.15,>=2.14->tensorflow-intel==2.14.0->tensorflow>=2.9.0->tensorflow-recommenders) (1.26.9)\n",
      "Requirement already satisfied: charset-normalizer~=2.0.0 in c:\\users\\amina sultana\\anaconda3\\lib\\site-packages (from requests<3,>=2.21.0->tensorboard<2.15,>=2.14->tensorflow-intel==2.14.0->tensorflow>=2.9.0->tensorflow-recommenders) (2.0.4)\n",
      "Requirement already satisfied: certifi>=2017.4.17 in c:\\users\\amina sultana\\anaconda3\\lib\\site-packages (from requests<3,>=2.21.0->tensorboard<2.15,>=2.14->tensorflow-intel==2.14.0->tensorflow>=2.9.0->tensorflow-recommenders) (2021.10.8)\n",
      "Requirement already satisfied: oauthlib>=3.0.0 in c:\\users\\amina sultana\\anaconda3\\lib\\site-packages (from requests-oauthlib>=0.7.0->google-auth-oauthlib<1.1,>=0.5->tensorboard<2.15,>=2.14->tensorflow-intel==2.14.0->tensorflow>=2.9.0->tensorflow-recommenders) (3.2.2)\n",
      "Requirement already satisfied: pyparsing!=3.0.5,>=2.0.2 in c:\\users\\amina sultana\\anaconda3\\lib\\site-packages (from packaging->tensorflow-intel==2.14.0->tensorflow>=2.9.0->tensorflow-recommenders) (3.0.4)\n",
      "Requirement already satisfied: pprintpp in c:\\users\\amina sultana\\anaconda3\\lib\\site-packages (0.4.0)\n"
     ]
    },
    {
     "name": "stderr",
     "output_type": "stream",
     "text": [
      "WARNING: Ignoring invalid distribution -rotobuf (c:\\users\\amina sultana\\anaconda3\\lib\\site-packages)\n",
      "WARNING: Ignoring invalid distribution -rotobuf (c:\\users\\amina sultana\\anaconda3\\lib\\site-packages)\n",
      "WARNING: Ignoring invalid distribution -rotobuf (c:\\users\\amina sultana\\anaconda3\\lib\\site-packages)\n",
      "WARNING: Ignoring invalid distribution -rotobuf (c:\\users\\amina sultana\\anaconda3\\lib\\site-packages)\n",
      "WARNING: Ignoring invalid distribution -rotobuf (c:\\users\\amina sultana\\anaconda3\\lib\\site-packages)\n",
      "WARNING: Ignoring invalid distribution -rotobuf (c:\\users\\amina sultana\\anaconda3\\lib\\site-packages)\n"
     ]
    }
   ],
   "source": [
    "!pip install tensorflow-recommenders\n",
    "!pip install pprintpp"
   ]
  },
  {
   "cell_type": "code",
   "execution_count": 5,
   "id": "db13fa26",
   "metadata": {},
   "outputs": [],
   "source": [
    "from typing import Dict, Text\n",
    "import pprintpp\n",
    "\n",
    "import numpy as np\n",
    "import pandas as pd\n",
    "\n",
    "import tensorflow as tf\n",
    "\n",
    "import tensorflow_recommenders as tfrs"
   ]
  },
  {
   "cell_type": "code",
   "execution_count": 6,
   "id": "48e4652c",
   "metadata": {},
   "outputs": [],
   "source": [
    "interaction_data = pd.read_csv(\"RAW_interactions.csv\")\n",
    "recipe_data = pd.read_csv(\"RAW_recipes.csv\")\n",
    "\n",
    "interaction_train = pd.read_csv(\"interactions_train.csv\")\n",
    "interaction_test = pd.read_csv(\"interactions_test.csv\")"
   ]
  },
  {
   "cell_type": "code",
   "execution_count": 7,
   "id": "3f667605",
   "metadata": {},
   "outputs": [
    {
     "name": "stderr",
     "output_type": "stream",
     "text": [
      "C:\\Users\\amina sultana\\AppData\\Local\\Temp\\ipykernel_23492\\1666361360.py:5: FutureWarning: Boolean inputs to the `inclusive` argument are deprecated in favour of `both` or `neither`.\n",
      "  recipes_l0y = recipe_data.loc[recipe_data['submitted'].between(from_year, to_year, inclusive=False)]\n"
     ]
    },
    {
     "name": "stdout",
     "output_type": "stream",
     "text": [
      "(18577, 12)\n",
      "(297540, 5)\n"
     ]
    },
    {
     "name": "stderr",
     "output_type": "stream",
     "text": [
      "C:\\Users\\amina sultana\\AppData\\Local\\Temp\\ipykernel_23492\\1666361360.py:9: FutureWarning: Boolean inputs to the `inclusive` argument are deprecated in favour of `both` or `neither`.\n",
      "  interactions_l0y = interaction_data.loc[interaction_data['date'].between(from_year, to_year, inclusive=False)]\n"
     ]
    }
   ],
   "source": [
    "from_year, to_year = '2011-01-01','2018-12-31'\n",
    "\n",
    "recipe_data['submitted'] = pd.to_datetime(recipe_data['submitted'])\n",
    "recipe_data['submitted'] = recipe_data['submitted'].apply(lambda x: x.tz_localize(None))\n",
    "recipes_l0y = recipe_data.loc[recipe_data['submitted'].between(from_year, to_year, inclusive=False)]\n",
    "\n",
    "interaction_data['date'] = pd.to_datetime(interaction_data['date'])\n",
    "interaction_data['date'] = interaction_data['date'].apply(lambda x: x.tz_localize(None))\n",
    "interactions_l0y = interaction_data.loc[interaction_data['date'].between(from_year, to_year, inclusive=False)]\n",
    "\n",
    "print(recipes_l0y.shape)\n",
    "print(interactions_l0y.shape)"
   ]
  },
  {
   "cell_type": "code",
   "execution_count": 8,
   "id": "a38bd3e7",
   "metadata": {},
   "outputs": [],
   "source": [
    "# Filter the interaction_train and interaction_test dataframes within the same datasets\n",
    "from_year, to_year = '2011-01-01', '2018-12-31'\n",
    "interaction_train_filtered = interaction_train.loc[(interaction_train['date'] >= from_year) & (interaction_train['date'] <= to_year)]\n",
    "interaction_test_filtered = interaction_test.loc[(interaction_test['date'] >= from_year) & (interaction_test['date'] <= to_year)]\n",
    "\n",
    "# Replace the original dataframes with the filtered dataframes\n",
    "interaction_train = interaction_train_filtered\n",
    "interaction_test = interaction_test_filtered"
   ]
  },
  {
   "cell_type": "code",
   "execution_count": 9,
   "id": "38d0afd2",
   "metadata": {},
   "outputs": [],
   "source": [
    "interaction_data = interaction_data.astype({'user_id': 'string', 'recipe_id':'string'})\n",
    "interaction_train = interaction_train.astype({'user_id': 'string', 'recipe_id':'string'})\n",
    "interaction_test = interaction_test.astype({'user_id': 'string', 'recipe_id':'string'})"
   ]
  },
  {
   "cell_type": "code",
   "execution_count": 10,
   "id": "eab61efa",
   "metadata": {},
   "outputs": [],
   "source": [
    "class RankingModel(tf.keras.Model):\n",
    "\n",
    "    def __init__(self):\n",
    "        super().__init__()\n",
    "        embedding_dimension = 32\n",
    "\n",
    "        self.user_embeddings = tf.keras.Sequential([\n",
    "                                    tf.keras.layers.experimental.preprocessing.StringLookup(\n",
    "                                        vocabulary=uniqueUserIds, mask_token=None),\n",
    "                                        # add addional embedding to account for unknow tokens\n",
    "                                    tf.keras.layers.Embedding(len(uniqueUserIds)+1, embedding_dimension)\n",
    "                                    ])\n",
    "\n",
    "        self.product_embeddings = tf.keras.Sequential([\n",
    "                                    tf.keras.layers.experimental.preprocessing.StringLookup(\n",
    "                                        vocabulary=uniqueFoodIds, mask_token=None),\n",
    "                                    # add addional embedding to account for unknow tokens\n",
    "                                    tf.keras.layers.Embedding(len(uniqueFoodIds)+1, embedding_dimension)\n",
    "                                    ])\n",
    "        # Set up a retrieval task and evaluation metrics over the\n",
    "        # entire dataset of candidates.\n",
    "        self.ratings = tf.keras.Sequential([\n",
    "                            tf.keras.layers.Dense(256, activation=\"relu\"),\n",
    "                            tf.keras.layers.Dense(64,  activation=\"relu\"),\n",
    "                            tf.keras.layers.Dense(1)\n",
    "                              ])\n",
    "        \n",
    "    def call(self, userId, foodId):\n",
    "        user_embeddings  = self.user_embeddings (userId)\n",
    "        food_embeddings = self.product_embeddings(foodId)\n",
    "        return self.ratings(tf.concat([user_embeddings, food_embeddings], axis=1))\n",
    "\n",
    "# Build a model.\n",
    "class FoodModel(tfrs.models.Model):\n",
    "\n",
    "    def __init__(self):\n",
    "        super().__init__()\n",
    "        self.ranking_model: tf.keras.Model = RankingModel()\n",
    "        self.task: tf.keras.layers.Layer   = tfrs.tasks.Ranking(\n",
    "                                                    loss    =  tf.keras.losses.MeanSquaredError(),\n",
    "                                                    metrics = [tf.keras.metrics.RootMeanSquaredError()])\n",
    "            \n",
    "\n",
    "    def compute_loss(self, features, training=False):\n",
    "        rating_predictions = self.ranking_model(features[\"userID\"], features[\"foodID\"]  )\n",
    "\n",
    "        return self.task( labels=features[\"rating\"], predictions=rating_predictions)"
   ]
  },
  {
   "cell_type": "code",
   "execution_count": 11,
   "id": "9633af17",
   "metadata": {},
   "outputs": [],
   "source": [
    "uniqueUserIds = interaction_data.user_id.unique()\n",
    "uniqueFoodIds = interaction_data.recipe_id.unique()"
   ]
  },
  {
   "cell_type": "code",
   "execution_count": 12,
   "id": "04fe0006",
   "metadata": {},
   "outputs": [],
   "source": [
    "train_data = tf.data.Dataset.from_tensor_slices(\n",
    "{\n",
    "    \"userID\":tf.cast(interaction_train.user_id.values, tf.string),\n",
    "    \"foodID\":tf.cast(interaction_train.recipe_id.values, tf.string),\n",
    "    \"rating\":tf.cast(interaction_train.rating.values, tf.float32)\n",
    "})\n",
    "\n",
    "test_data = tf.data.Dataset.from_tensor_slices(\n",
    "{\n",
    "    \"userID\":tf.cast(interaction_test.user_id.values, tf.string),\n",
    "    \"foodID\":tf.cast(interaction_test.recipe_id.values, tf.string),\n",
    "    \"rating\":tf.cast(interaction_test.rating.values, tf.float32)\n",
    "})"
   ]
  },
  {
   "cell_type": "code",
   "execution_count": 13,
   "id": "30ed3728",
   "metadata": {},
   "outputs": [],
   "source": [
    "tf.random.set_seed(42)\n",
    "\n",
    "train_data = train_data.shuffle(100_000, seed=42, reshuffle_each_iteration=False)"
   ]
  },
  {
   "cell_type": "code",
   "execution_count": 14,
   "id": "7a633242",
   "metadata": {},
   "outputs": [
    {
     "name": "stdout",
     "output_type": "stream",
     "text": [
      "Epoch 1/10\n",
      "17/17 [==============================] - 3s 45ms/step - root_mean_squared_error: 4.6000 - loss: 21.1651 - regularization_loss: 0.0000e+00 - total_loss: 21.1651\n",
      "Epoch 2/10\n",
      "17/17 [==============================] - 0s 24ms/step - root_mean_squared_error: 4.5235 - loss: 20.4726 - regularization_loss: 0.0000e+00 - total_loss: 20.4726\n",
      "Epoch 3/10\n",
      "17/17 [==============================] - 0s 27ms/step - root_mean_squared_error: 4.4573 - loss: 19.8770 - regularization_loss: 0.0000e+00 - total_loss: 19.8770\n",
      "Epoch 4/10\n",
      "17/17 [==============================] - 0s 25ms/step - root_mean_squared_error: 4.3922 - loss: 19.2979 - regularization_loss: 0.0000e+00 - total_loss: 19.2979\n",
      "Epoch 5/10\n",
      "17/17 [==============================] - 0s 24ms/step - root_mean_squared_error: 4.3252 - loss: 18.7098 - regularization_loss: 0.0000e+00 - total_loss: 18.7098\n",
      "Epoch 6/10\n",
      "17/17 [==============================] - 0s 26ms/step - root_mean_squared_error: 4.2552 - loss: 18.1058 - regularization_loss: 0.0000e+00 - total_loss: 18.1058\n",
      "Epoch 7/10\n",
      "17/17 [==============================] - 0s 24ms/step - root_mean_squared_error: 4.1820 - loss: 17.4839 - regularization_loss: 0.0000e+00 - total_loss: 17.4839\n",
      "Epoch 8/10\n",
      "17/17 [==============================] - 0s 25ms/step - root_mean_squared_error: 4.1052 - loss: 16.8430 - regularization_loss: 0.0000e+00 - total_loss: 16.8430\n",
      "Epoch 9/10\n",
      "17/17 [==============================] - 0s 25ms/step - root_mean_squared_error: 4.0246 - loss: 16.1834 - regularization_loss: 0.0000e+00 - total_loss: 16.1834\n",
      "Epoch 10/10\n",
      "17/17 [==============================] - 0s 24ms/step - root_mean_squared_error: 3.9401 - loss: 15.5057 - regularization_loss: 0.0000e+00 - total_loss: 15.5057\n"
     ]
    },
    {
     "data": {
      "text/plain": [
       "<keras.src.callbacks.History at 0x1f80b0717c0>"
      ]
     },
     "execution_count": 14,
     "metadata": {},
     "output_type": "execute_result"
    }
   ],
   "source": [
    "model = FoodModel()\n",
    "model.compile(optimizer=tf.keras.optimizers.Adagrad(learning_rate=0.001))\n",
    "cached_train = train_data.shuffle(100_000).batch(8192).cache()\n",
    "cached_test = test_data.batch(4096).cache()\n",
    "model.fit(cached_train, epochs=10)"
   ]
  },
  {
   "cell_type": "code",
   "execution_count": 15,
   "id": "b9de640f",
   "metadata": {},
   "outputs": [
    {
     "name": "stdout",
     "output_type": "stream",
     "text": [
      "1/1 [==============================] - 0s 251ms/step - root_mean_squared_error: 3.6987 - loss: 13.6805 - regularization_loss: 0.0000e+00 - total_loss: 13.6805\n"
     ]
    },
    {
     "data": {
      "text/plain": [
       "{'root_mean_squared_error': 3.6987173557281494,\n",
       " 'loss': 13.680509567260742,\n",
       " 'regularization_loss': 0,\n",
       " 'total_loss': 13.680509567260742}"
      ]
     },
     "execution_count": 15,
     "metadata": {},
     "output_type": "execute_result"
    }
   ],
   "source": [
    "model.evaluate(cached_test, return_dict=True)"
   ]
  },
  {
   "cell_type": "code",
   "execution_count": 19,
   "id": "8132537c",
   "metadata": {},
   "outputs": [],
   "source": [
    "user_rand = uniqueUserIds[200]\n",
    "test_rating = {}\n",
    "for m in test_data.take(10):\n",
    "    test_rating[m[\"foodID\"].numpy()]=RankingModel()(tf.convert_to_tensor([user_rand]),tf.convert_to_tensor([m[\"foodID\"]]))"
   ]
  },
  {
   "cell_type": "code",
   "execution_count": 21,
   "id": "57449e71",
   "metadata": {},
   "outputs": [
    {
     "name": "stdout",
     "output_type": "stream",
     "text": [
      "Top 10 recommended products for User 450004: \n",
      "bread pot fondue\n",
      "blueberry pancake syrup   low carb\n",
      "murgh makhani  indian butter chicken\n",
      "big kahuna personal pizza\n",
      "easy marinated flank steak\n",
      "corn capsicum curry\n",
      "mushroom and sun dried tomato risotto\n",
      "fantabulously low carb  and yet    phony  rice pudding two ways\n",
      "sweet and sour pork ribs\n",
      "two bean toss\n"
     ]
    }
   ],
   "source": [
    "print(\"Top 10 recommended products for User {}: \".format(user_rand))\n",
    "for m in sorted(test_rating, key=test_rating.get, reverse=True):\n",
    "    print(recipe_data.loc[recipe_data['id'] == int(m.decode())]['name'].item())"
   ]
  },
  {
   "cell_type": "code",
   "execution_count": null,
   "id": "a7d511cd",
   "metadata": {},
   "outputs": [],
   "source": []
  },
  {
   "cell_type": "code",
   "execution_count": 22,
   "id": "3119f587",
   "metadata": {},
   "outputs": [
    {
     "name": "stdout",
     "output_type": "stream",
     "text": [
      "Top 10 recommended products for User 450004: \n",
      "bread pot fondue\n",
      "blueberry pancake syrup   low carb\n",
      "murgh makhani  indian butter chicken\n",
      "big kahuna personal pizza\n",
      "easy marinated flank steak\n",
      "corn capsicum curry\n",
      "mushroom and sun dried tomato risotto\n",
      "fantabulously low carb  and yet    phony  rice pudding two ways\n",
      "sweet and sour pork ribs\n",
      "two bean toss\n"
     ]
    }
   ],
   "source": [
    "print(\"Top 10 recommended products for User {}: \".format(user_rand))\n",
    "for m in sorted(test_rating, key=test_rating.get, reverse=True):\n",
    "    print(recipe_data.loc[recipe_data['id'] == int(m.decode())]['name'].item())"
   ]
  },
  {
   "cell_type": "code",
   "execution_count": null,
   "id": "524b9cd6",
   "metadata": {},
   "outputs": [],
   "source": []
  }
 ],
 "metadata": {
  "kernelspec": {
   "display_name": "Python 3 (ipykernel)",
   "language": "python",
   "name": "python3"
  },
  "language_info": {
   "codemirror_mode": {
    "name": "ipython",
    "version": 3
   },
   "file_extension": ".py",
   "mimetype": "text/x-python",
   "name": "python",
   "nbconvert_exporter": "python",
   "pygments_lexer": "ipython3",
   "version": "3.9.12"
  }
 },
 "nbformat": 4,
 "nbformat_minor": 5
}
